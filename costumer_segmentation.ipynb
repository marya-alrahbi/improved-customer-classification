{
 "cells": [
  {
   "cell_type": "markdown",
   "id": "b6e7afbc",
   "metadata": {
    "id": "b6e7afbc"
   },
   "source": [
    "## SULTAN QABOOS UNIVERSITY\n",
    "## DEPARTMENT OF COMPUTER SCIENCE\n",
    "# MACHINE LEARNING (COMP4603)\n",
    "## CLASSIFICATION Project (Customer Segmentation classification )\n",
    "\n",
    "### MARYA AL RAHBI (131247)\n",
    "### Razan Dweib (131997)"
   ]
  },
  {
   "cell_type": "code",
   "execution_count": 2,
   "id": "1993815d",
   "metadata": {
    "id": "1993815d"
   },
   "outputs": [],
   "source": [
    "\n",
    "import warnings\n",
    "\n",
    "import pandas as pd\n",
    "\n",
    "from sklearn import preprocessing\n",
    "\n",
    "from sklearn.preprocessing import MinMaxScaler\n",
    "\n",
    "from sklearn.feature_selection import SequentialFeatureSelector, VarianceThreshold, SelectKBest, chi2 ,RFE\n",
    "\n",
    "from sklearn.neighbors import KNeighborsClassifier\n",
    "\n",
    "\n",
    "from sklearn.linear_model import LogisticRegression\n",
    "from sklearn.model_selection import train_test_split, GridSearchCV\n",
    "\n",
    "from sklearn.tree import DecisionTreeClassifier\n",
    "\n",
    "from sklearn.metrics import accuracy_score\n",
    "\n",
    "import matplotlib.pyplot as plt\n",
    "import seaborn as sns\n",
    "\n",
    "from sklearn.feature_selection import SelectFromModel"
   ]
  },
  {
   "cell_type": "markdown",
   "id": "81d9b1cd",
   "metadata": {
    "id": "81d9b1cd"
   },
   "source": [
    "## Dataset"
   ]
  },
  {
   "cell_type": "markdown",
   "id": "2fdf09f9",
   "metadata": {
    "id": "2fdf09f9"
   },
   "source": [
    "data source: https://www.kaggle.com/datasets/abisheksudarshan/customer-segmentation?resource=download\n",
    "\n",
    "uploaded by : Abishek Sudarshan "
   ]
  },
  {
   "cell_type": "code",
   "execution_count": 3,
   "id": "f2525f08",
   "metadata": {
    "id": "f2525f08"
   },
   "outputs": [],
   "source": [
    "warnings.filterwarnings(\"ignore\")\n",
    "\n",
    "# read file\n",
    "train_file='train.csv'\n",
    "\n",
    "df= pd.read_csv(train_file)"
   ]
  },
  {
   "cell_type": "markdown",
   "id": "8adce567",
   "metadata": {
    "id": "8adce567"
   },
   "source": [
    "### Explore dataset :"
   ]
  },
  {
   "cell_type": "code",
   "execution_count": 12,
   "id": "8cd73845",
   "metadata": {
    "id": "8cd73845",
    "outputId": "c099ac01-b162-49f0-b86f-302e23b38071"
   },
   "outputs": [
    {
     "name": "stdout",
     "output_type": "stream",
     "text": [
      "Data information :\n",
      "\n",
      " \n",
      "<class 'pandas.core.frame.DataFrame'>\n",
      "RangeIndex: 8068 entries, 0 to 8067\n",
      "Data columns (total 11 columns):\n",
      " #   Column           Non-Null Count  Dtype  \n",
      "---  ------           --------------  -----  \n",
      " 0   ID               8068 non-null   int64  \n",
      " 1   Gender           8068 non-null   object \n",
      " 2   Ever_Married     7928 non-null   object \n",
      " 3   Age              8068 non-null   int64  \n",
      " 4   Graduated        7990 non-null   object \n",
      " 5   Profession       7944 non-null   object \n",
      " 6   Work_Experience  7239 non-null   float64\n",
      " 7   Spending_Score   8068 non-null   object \n",
      " 8   Family_Size      7733 non-null   float64\n",
      " 9   Var_1            7992 non-null   object \n",
      " 10  Segmentation     8068 non-null   object \n",
      "dtypes: float64(2), int64(2), object(7)\n",
      "memory usage: 693.5+ KB\n",
      "************************************************************\n",
      "\n",
      "\n",
      "Dimentions of train data is  (8068, 11)\n",
      "************************************************************\n",
      "\n",
      "\n",
      "First five columns of data : \n",
      "\n",
      "\n",
      "       ID  Gender Ever_Married  Age Graduated     Profession  Work_Experience  \\\n",
      "0  462809    Male           No   22        No     Healthcare              1.0   \n",
      "1  462643  Female          Yes   38       Yes       Engineer              NaN   \n",
      "2  466315  Female          Yes   67       Yes       Engineer              1.0   \n",
      "3  461735    Male          Yes   67       Yes         Lawyer              0.0   \n",
      "4  462669  Female          Yes   40       Yes  Entertainment              NaN   \n",
      "\n",
      "  Spending_Score  Family_Size  Var_1 Segmentation  \n",
      "0            Low          4.0  Cat_4            D  \n",
      "1        Average          3.0  Cat_4            A  \n",
      "2            Low          1.0  Cat_6            B  \n",
      "3           High          2.0  Cat_6            B  \n",
      "4           High          6.0  Cat_6            A  \n",
      "\n",
      "\n",
      "************************************************************\n",
      "Data Describtion :\n",
      "                  ID          Age  Work_Experience  Family_Size\n",
      "count    8068.000000  8068.000000      7239.000000  7733.000000\n",
      "mean   463479.214551    43.466906         2.641663     2.850123\n",
      "std      2595.381232    16.711696         3.406763     1.531413\n",
      "min    458982.000000    18.000000         0.000000     1.000000\n",
      "25%    461240.750000    30.000000         0.000000     2.000000\n",
      "50%    463472.500000    40.000000         1.000000     3.000000\n",
      "75%    465744.250000    53.000000         4.000000     4.000000\n",
      "max    467974.000000    89.000000        14.000000     9.000000\n",
      "************************************************************\n"
     ]
    },
    {
     "data": {
      "text/plain": [
       "<AxesSubplot:xlabel='Segmentation', ylabel='count'>"
      ]
     },
     "execution_count": 12,
     "metadata": {},
     "output_type": "execute_result"
    },
    {
     "data": {
      "image/png": "[encoded data removed]",
      "text/plain": [
       "<Figure size 640x480 with 1 Axes>"
      ]
     },
     "metadata": {},
     "output_type": "display_data"
    }
   ],
   "source": [
    "# info \n",
    "\n",
    "print (\"Data information :\\n\\n \")\n",
    "df.info()\n",
    "\n",
    "print(\"*\"*60)\n",
    "print(\"\\n\\nDimentions of train data is \", df.shape )\n",
    "\n",
    "print(\"*\"*60)\n",
    "print(\"\\n\\nFirst five columns of data : \\n\\n\")\n",
    "print(df.head() )\n",
    "\n",
    "print(\"\\n\")\n",
    "print(\"*\"*60)\n",
    "print(\"Data Describtion :\")\n",
    "# description\n",
    "print(df.describe())\n",
    "print(\"*\"*60)\n",
    "# labels count\n",
    "sns.countplot(df['Segmentation'])"
   ]
  },
  {
   "cell_type": "markdown",
   "id": "02a9c2cd",
   "metadata": {},
   "source": [
    "- From label plot :\n",
    "    - D label has the maximum number .\n",
    "    - A, B and C are similar .\n",
    "    - There is no big difference between the classes ."
   ]
  },
  {
   "cell_type": "markdown",
   "id": "a0fbd123",
   "metadata": {
    "id": "a0fbd123"
   },
   "source": [
    "### Data preprocessing"
   ]
  },
  {
   "cell_type": "markdown",
   "id": "ca9fe250",
   "metadata": {
    "id": "ca9fe250"
   },
   "source": [
    "Noticed that :\n",
    "\n",
    "    1. The data contains 11 feature and  8068 samples\n",
    "    2. All features are String except the age , work experience and    family size . ( Encoding is needed ).\n",
    "    3. Different scale numbers ( Scaler is needed)\n",
    "    4. Null values (Remove the null values)\n",
    "    "
   ]
  },
  {
   "cell_type": "markdown",
   "id": "4975bcae",
   "metadata": {
    "id": "4975bcae"
   },
   "source": [
    "#### Missing values handling"
   ]
  },
  {
   "cell_type": "code",
   "execution_count": 55,
   "id": "5192fcf3",
   "metadata": {
    "id": "5192fcf3"
   },
   "outputs": [
    {
     "name": "stdout",
     "output_type": "stream",
     "text": [
      "Null report Before Missing data handling :\n",
      "\n",
      " \n",
      "                 missing_Val\n",
      "Work_Experience          829\n",
      "Family_Size              335\n",
      "Ever_Married             140\n",
      "Profession               124\n",
      "Graduated                 78\n",
      "Var_1                     76\n",
      "ID                         0\n",
      "Gender                     0\n",
      "Age                        0\n",
      "Spending_Score             0\n",
      "Segmentation               0\n",
      "\n",
      " After Missing data handling : \n",
      " \n",
      "                 missing_Val\n",
      "ID                         0\n",
      "Gender                     0\n",
      "Ever_Married               0\n",
      "Age                        0\n",
      "Graduated                  0\n",
      "Profession                 0\n",
      "Work_Experience            0\n",
      "Spending_Score             0\n",
      "Family_Size                0\n",
      "Var_1                      0\n",
      "Segmentation               0\n"
     ]
    },
    {
     "data": {
      "image/png": "[encoded data removed]",
      "text/plain": [
       "<Figure size 432x288 with 2 Axes>"
      ]
     },
     "metadata": {
      "needs_background": "light"
     },
     "output_type": "display_data"
    }
   ],
   "source": [
    "\n",
    "# location of null values \n",
    "sns.heatmap(df.isna(), cmap=plt.cm.Reds)\n",
    "\n",
    "def nullReport():\n",
    "    \n",
    "    '''\n",
    "    This function to display the null report values.\n",
    "    \n",
    "    '''\n",
    "\n",
    "    # state the missing values\n",
    "    \n",
    "    missing_values=df.isna().sum()\n",
    "   \n",
    "    \n",
    "    data={'missing_Val' : missing_values}\n",
    "    \n",
    "    data2=pd.DataFrame(data)\n",
    "    \n",
    "    data3=data2.sort_values(by='missing_Val', ascending=False )\n",
    "    \n",
    "    print(data3)\n",
    "\n",
    "\n",
    "\n",
    "#1. Missing data\n",
    "\n",
    "print(\"Null report Before Missing data handling :\\n\\n \")\n",
    "\n",
    "\n",
    "nullReport()\n",
    "\n",
    "# Remove null values from (work experience) feature :\n",
    "\n",
    "work_mean=int(df['Work_Experience'].mean())\n",
    "\n",
    "df['Work_Experience'].fillna(work_mean ,  inplace=True )\n",
    "\n",
    "\n",
    "\n",
    "\n",
    "# Remove null values from (family size) feature  :\n",
    "    \n",
    "familySize_mean=int(df['Family_Size'].mean())\n",
    "df[\"Family_Size\"].fillna(familySize_mean, inplace=True)\n",
    "\n",
    "\n",
    "# Remove null values from (Married) feature ( replace with the most frequence appearing )\n",
    "\n",
    "df[\"Ever_Married\"].fillna(df[\"Ever_Married\"].mode().iloc[0], inplace=True)\n",
    "\n",
    "\n",
    "# Remove null values from (profession) feature \n",
    "\n",
    "df[\"Profession\"].fillna(df[\"Profession\"].mode().iloc[0], inplace=True)\n",
    "\n",
    "#Remove null values from (Graduated) feature \n",
    "\n",
    "df[\"Graduated\"].fillna(df[\"Graduated\"].mode().iloc[0], inplace=True)\n",
    "\n",
    "# Remove null values from (Var_1) feature\n",
    "\n",
    "df[\"Var_1\"].fillna(df[\"Var_1\"].mode().iloc[0], inplace=True)\n",
    "\n",
    "print(\"\\n After Missing data handling : \\n \")\n",
    "\n",
    "nullReport()\n"
   ]
  },
  {
   "cell_type": "markdown",
   "id": "4486fdce",
   "metadata": {
    "id": "4486fdce"
   },
   "source": [
    "### Encoding"
   ]
  },
  {
   "cell_type": "code",
   "execution_count": 56,
   "id": "997bd4af",
   "metadata": {
    "id": "997bd4af"
   },
   "outputs": [],
   "source": [
    "# 2. Encoding \n",
    "\n",
    "#marriage encoding\n",
    "\n",
    "label_encoder=preprocessing.LabelEncoder()\n",
    "\n",
    "df['Ever_Married']=label_encoder.fit_transform(df['Ever_Married'])\n",
    "\n",
    "\n",
    "# graduation encoding\n",
    "\n",
    "df['Graduated']=label_encoder.fit_transform(df['Graduated'])\n",
    "\n",
    "# gendor encoding \n",
    "\n",
    "\n",
    "df[\"Gender\"]=label_encoder.fit_transform(df['Gender'])\n",
    "\n",
    "\n",
    "# spending score\n",
    "\n",
    "df[\"Spending_Score\"]=label_encoder.fit_transform(df[\"Spending_Score\"])\n",
    "\n",
    "# profession encoding \n",
    "\n",
    "df[\"Profession\"]=label_encoder.fit_transform(df[\"Profession\"])\n",
    "\n",
    "# var1 encoding\n",
    "\n",
    "df[\"Var_1\"]=label_encoder.fit_transform(df[\"Var_1\"])\n",
    "\n",
    "# Segmentation encoding \n",
    "df[\"Segmentation\"]=label_encoder.fit_transform(df[\"Segmentation\"])\n",
    "\n",
    "\n",
    "# define X and Y\n",
    "\n",
    "X=df.iloc[: , 1:-1].values # drop the id feature\n",
    "Y=df.iloc[:, -1].values\n",
    "\n",
    "# 3. scalling\n",
    "\n",
    "scaler=MinMaxScaler()\n",
    "X=scaler.fit_transform(X)\n",
    "\n",
    "\n"
   ]
  },
  {
   "cell_type": "markdown",
   "id": "9494e625",
   "metadata": {
    "id": "9494e625"
   },
   "source": [
    "### Feature correlation \n",
    "To take the subset of relevent data."
   ]
  },
  {
   "cell_type": "code",
   "execution_count": 57,
   "id": "510e766c",
   "metadata": {
    "id": "510e766c",
    "outputId": "2d513597-8797-41b4-cb02-eaf3cf9dbbf1"
   },
   "outputs": [
    {
     "data": {
      "text/plain": [
       "<AxesSubplot:>"
      ]
     },
     "execution_count": 57,
     "metadata": {},
     "output_type": "execute_result"
    },
    {
     "data": {
      "image/png": "[encoded data removed]",
      "text/plain": [
       "<Figure size 720x576 with 2 Axes>"
      ]
     },
     "metadata": {
      "needs_background": "light"
     },
     "output_type": "display_data"
    }
   ],
   "source": [
    "corrmat = df.corr()\n",
    "plt.subplots(figsize=(10,8))\n",
    "sns.heatmap(corrmat, annot=True)"
   ]
  },
  {
   "cell_type": "markdown",
   "id": "8042e05f",
   "metadata": {
    "id": "8042e05f"
   },
   "source": [
    "We can notice that:\n",
    " - The correlation between features is not very high, that refers to good correlation and no need to drop ( no correlated features) .\n",
    " - The correlation here is between numeric features only.\n",
    " - We will use Different function to choose best features among all using :\n",
    "     1. Sequential function\n",
    "     2. Variance function\n",
    "     3. Select best K function\n",
    "     4. Recursive Feature Elimination \n",
    "     5. Select from model"
   ]
  },
  {
   "cell_type": "code",
   "execution_count": 58,
   "id": "870a5250",
   "metadata": {
    "id": "870a5250"
   },
   "outputs": [],
   "source": [
    "# feature selection(sfs) \n",
    "\n",
    "def sfs(classifier , n = 5):\n",
    "    sfs=SequentialFeatureSelector(classifier,n_features_to_select=n)\n",
    "    sfs.fit(X,Y)\n",
    "    x_sfs=sfs.transform(X)\n",
    "    return x_sfs\n",
    "\n",
    "\n",
    "def sfs_backward(classifier , n = 5):\n",
    "    sfs=SequentialFeatureSelector(classifier,n_features_to_select=5 ,direction = 'backward')\n",
    "    sfs.fit(X,Y)\n",
    "    x_sfs=sfs.transform(X)\n",
    "    return x_sfs\n",
    "\n",
    "\n",
    "def varianceThresholdFnc():\n",
    "    selector=VarianceThreshold()\n",
    "\n",
    "    x_selector=selector.fit_transform(X)\n",
    "    return x_selector\n",
    "\n",
    "\n",
    "def selectKbest_fnc():\n",
    "    selector=SelectKBest(score_func=chi2, k=3)\n",
    "    selector_x=selector.fit_transform(X,Y)\n",
    "    return selector_x\n",
    "    \n",
    "def RFE_fnc(classifier):\n",
    "    selector=RFE(classifier, n_features_to_select=3, step=1)\n",
    "    x_selector=selector.fit_transform(X,Y)\n",
    "    return x_selector\n",
    "\n",
    "\n",
    "\n",
    "def SelectFromModel_fnc(classifier):\n",
    "    selector = SelectFromModel(estimator=classifier)\n",
    "    x_selector = selector.fit_transform(X,Y)\n",
    "    return x_selector\n",
    "\n"
   ]
  },
  {
   "cell_type": "markdown",
   "id": "126f16a1",
   "metadata": {
    "id": "126f16a1"
   },
   "source": [
    "## Classification Model"
   ]
  },
  {
   "cell_type": "code",
   "execution_count": 59,
   "id": "138d616d",
   "metadata": {
    "id": "138d616d"
   },
   "outputs": [],
   "source": [
    "from sklearn.metrics import classification_report\n",
    "\n",
    "def DecisionTree(obj,xData):\n",
    "    \n",
    "    x_train,x_test,y_train,y_test=train_test_split(xData,Y, stratify=Y)\n",
    "    alpha_range=range(0,10)\n",
    "    criterion_opt = ['gini', 'entropy']\n",
    "    max_depth_opt = [2,4,6,8,10,12]\n",
    "    \n",
    "    clf=obj\n",
    "    param_grid=dict(ccp_alpha=alpha_range, criterion=criterion_opt,max_depth=max_depth_opt)\n",
    "    grid=GridSearchCV(clf,param_grid,cv=5, scoring='accuracy', return_train_score=False, verbose=1)\n",
    "    grid_val=grid.fit(x_train,y_train)\n",
    "    best_score=grid_val.best_score_\n",
    "    y_predict=grid.predict(x_test)\n",
    "    acc=accuracy_score(y_test,y_predict)\n",
    "    \n",
    "    # classification report \n",
    "\n",
    "    print(classification_report(y_test,y_predict))\n",
    "    print(\"==\"*30)\n",
    "\n",
    "    return acc"
   ]
  },
  {
   "cell_type": "code",
   "execution_count": 60,
   "id": "3724e71e",
   "metadata": {
    "id": "3724e71e"
   },
   "outputs": [],
   "source": [
    "def KNN(obj,xData):\n",
    "    \n",
    "    x_train,x_test,y_train,y_test=train_test_split(xData,Y)\n",
    "    k_range = list(range(1, 31))\n",
    "    param_grid_knn = dict(n_neighbors=k_range)\n",
    "    grid_knn = GridSearchCV(obj, param_grid_knn, cv=5, scoring='accuracy')\n",
    "    # fit in the data \n",
    "    grid_knn= grid_knn.fit(x_train, y_train)\n",
    "    #best_k= grid_knn_mm.best_params_['n_neighbors']\n",
    "    score = grid_knn.best_score_\n",
    "    y_predict=grid_knn.predict(x_test)\n",
    "    acc=accuracy_score(y_test,y_predict)\n",
    "    \n",
    "\n",
    "    print(classification_report(y_test,y_predict))\n",
    "    print(\"==\"*30)\n",
    "    \n",
    "    return acc"
   ]
  },
  {
   "cell_type": "code",
   "execution_count": 61,
   "id": "398afcdf",
   "metadata": {
    "id": "398afcdf"
   },
   "outputs": [],
   "source": [
    "def LR(obj,xData):\n",
    "    \n",
    "    x_train,x_test,y_train,y_test=train_test_split(xData,Y)\n",
    "    penalty_options=['l1','l2']\n",
    "    c_val=[0.05 , 0.1 , 0.15 , 0.2 , 0.25 , 0.3 , 0.35 , 0.4 , 0.45  ,0.5 , 0.55 , 0.65 , 0.7 , 0.75 , 0.8 , 0.85 , 0.9 , 0.95 ,1]\n",
    "\n",
    "    parameters=dict(penalty=penalty_options, C=c_val)\n",
    "    \n",
    "    grid_lgr = GridSearchCV(obj, parameters, scoring='accuracy',cv=5)\n",
    "    \n",
    "    # fit in the data \n",
    "    grid_lgr = grid_lgr.fit(x_train, y_train)  \n",
    "    \n",
    "    score = grid_lgr.best_score_\n",
    "    \n",
    "    y_predict=grid_lgr.predict(x_test)\n",
    "    acc=accuracy_score(y_test,y_predict)\n",
    "    \n",
    "    print(classification_report(y_test,y_predict))\n",
    "    print(\"==\"*30)\n",
    "    \n",
    "    \n",
    "    return acc"
   ]
  },
  {
   "cell_type": "markdown",
   "id": "4c7a58ce",
   "metadata": {
    "id": "4c7a58ce"
   },
   "source": [
    "## Results (Decision Tree )"
   ]
  },
  {
   "cell_type": "code",
   "execution_count": 62,
   "id": "1ba381ed",
   "metadata": {
    "id": "1ba381ed",
    "outputId": "db8c3abe-b3ac-4a4b-9c3a-6bc93608c819"
   },
   "outputs": [
    {
     "name": "stdout",
     "output_type": "stream",
     "text": [
      "Confusion Matrix with no feature selection : \n",
      " \n",
      "Fitting 5 folds for each of 120 candidates, totalling 600 fits\n",
      "              precision    recall  f1-score   support\n",
      "\n",
      "           0       0.41      0.58      0.48       493\n",
      "           1       0.43      0.27      0.33       465\n",
      "           2       0.59      0.57      0.58       492\n",
      "           3       0.65      0.65      0.65       567\n",
      "\n",
      "    accuracy                           0.52      2017\n",
      "   macro avg       0.52      0.52      0.51      2017\n",
      "weighted avg       0.53      0.52      0.52      2017\n",
      "\n",
      "============================================================\n"
     ]
    }
   ],
   "source": [
    "# Dictionary for accuracy \n",
    "dict_acc={}\n",
    "\n",
    "# with no FS \n",
    "\n",
    "Accuracy_D=[]\n",
    "\n",
    "print(\"Confusion Matrix with no feature selection : \\n \" )\n",
    "clf=DecisionTreeClassifier()  \n",
    "acc_no_FS=DecisionTree(clf,X)\n",
    "\n",
    "Accuracy_D.append(acc_no_FS)"
   ]
  },
  {
   "cell_type": "code",
   "execution_count": 63,
   "id": "8aca6dfb",
   "metadata": {},
   "outputs": [
    {
     "name": "stdout",
     "output_type": "stream",
     "text": [
      "Decision Tree with 2 feature selection\n",
      "Fitting 5 folds for each of 120 candidates, totalling 600 fits\n",
      "              precision    recall  f1-score   support\n",
      "\n",
      "           0       0.37      0.47      0.42       493\n",
      "           1       0.31      0.12      0.17       465\n",
      "           2       0.50      0.57      0.53       492\n",
      "           3       0.60      0.69      0.64       567\n",
      "\n",
      "    accuracy                           0.48      2017\n",
      "   macro avg       0.45      0.46      0.44      2017\n",
      "weighted avg       0.45      0.48      0.45      2017\n",
      "\n",
      "============================================================\n",
      "Decision Tree with 3 feature selection\n",
      "Fitting 5 folds for each of 120 candidates, totalling 600 fits\n",
      "              precision    recall  f1-score   support\n",
      "\n",
      "           0       0.40      0.41      0.40       493\n",
      "           1       0.35      0.36      0.35       465\n",
      "           2       0.56      0.54      0.55       492\n",
      "           3       0.63      0.63      0.63       567\n",
      "\n",
      "    accuracy                           0.49      2017\n",
      "   macro avg       0.49      0.48      0.48      2017\n",
      "weighted avg       0.49      0.49      0.49      2017\n",
      "\n",
      "============================================================\n",
      "Decision Tree with 4 feature selection\n",
      "Fitting 5 folds for each of 120 candidates, totalling 600 fits\n",
      "              precision    recall  f1-score   support\n",
      "\n",
      "           0       0.38      0.43      0.40       493\n",
      "           1       0.37      0.30      0.33       464\n",
      "           2       0.60      0.57      0.58       493\n",
      "           3       0.62      0.68      0.65       567\n",
      "\n",
      "    accuracy                           0.50      2017\n",
      "   macro avg       0.49      0.49      0.49      2017\n",
      "weighted avg       0.50      0.50      0.50      2017\n",
      "\n",
      "============================================================\n",
      "Decision Tree with 5 feature selection\n",
      "Fitting 5 folds for each of 120 candidates, totalling 600 fits\n",
      "              precision    recall  f1-score   support\n",
      "\n",
      "           0       0.40      0.45      0.42       493\n",
      "           1       0.33      0.26      0.29       464\n",
      "           2       0.55      0.58      0.56       493\n",
      "           3       0.62      0.62      0.62       567\n",
      "\n",
      "    accuracy                           0.49      2017\n",
      "   macro avg       0.47      0.48      0.47      2017\n",
      "weighted avg       0.48      0.49      0.48      2017\n",
      "\n",
      "============================================================\n",
      "Decision Tree with 6 feature selection\n",
      "Fitting 5 folds for each of 120 candidates, totalling 600 fits\n",
      "              precision    recall  f1-score   support\n",
      "\n",
      "           0       0.41      0.42      0.41       493\n",
      "           1       0.37      0.29      0.32       465\n",
      "           2       0.52      0.57      0.54       492\n",
      "           3       0.63      0.68      0.66       567\n",
      "\n",
      "    accuracy                           0.50      2017\n",
      "   macro avg       0.48      0.49      0.48      2017\n",
      "weighted avg       0.49      0.50      0.49      2017\n",
      "\n",
      "============================================================\n",
      "Decision Tree with 7 feature selection\n",
      "Fitting 5 folds for each of 120 candidates, totalling 600 fits\n",
      "              precision    recall  f1-score   support\n",
      "\n",
      "           0       0.39      0.37      0.38       493\n",
      "           1       0.36      0.32      0.34       464\n",
      "           2       0.53      0.56      0.55       493\n",
      "           3       0.60      0.66      0.63       567\n",
      "\n",
      "    accuracy                           0.49      2017\n",
      "   macro avg       0.47      0.48      0.47      2017\n",
      "weighted avg       0.48      0.49      0.48      2017\n",
      "\n",
      "============================================================\n",
      "Decision Tree with 8 feature selection\n",
      "Fitting 5 folds for each of 120 candidates, totalling 600 fits\n",
      "              precision    recall  f1-score   support\n",
      "\n",
      "           0       0.42      0.54      0.47       493\n",
      "           1       0.39      0.26      0.31       464\n",
      "           2       0.58      0.54      0.56       493\n",
      "           3       0.64      0.70      0.67       567\n",
      "\n",
      "    accuracy                           0.52      2017\n",
      "   macro avg       0.51      0.51      0.50      2017\n",
      "weighted avg       0.51      0.52      0.51      2017\n",
      "\n",
      "============================================================\n"
     ]
    },
    {
     "data": {
      "image/png": "[encoded data removed]",
      "text/plain": [
       "<Figure size 432x288 with 1 Axes>"
      ]
     },
     "metadata": {
      "needs_background": "light"
     },
     "output_type": "display_data"
    }
   ],
   "source": [
    " # This loop to return the best number of features in Sequential selection of Decision Tree\n",
    "N = list(range(2,9))\n",
    "acc_N = list() \n",
    "for n in N:\n",
    "    print(f\"Decision Tree with {n} feature selection\")\n",
    "    x_seq_n=sfs(clf,n)\n",
    "    acc_sfs_n=DecisionTree(clf, x_seq_n)\n",
    "    acc_N.append(acc_sfs_n)\n",
    "\n",
    "    \n",
    "# plot the result\n",
    "plt.bar(N,acc_N)\n",
    "plt.ylabel('Accuracy')\n",
    "plt.show()"
   ]
  },
  {
   "cell_type": "markdown",
   "id": "2969408e",
   "metadata": {
    "id": "2969408e"
   },
   "source": [
    "#### Note \n",
    "- Notic that , the accuracy is low before feature selection.\n",
    "So, we applied different feature selection to increase the accuracy rate\n",
    "\n",
    "- From the graph :\n",
    " Number of feature = 8 , has the maximum accuracy, so we will use it in next SFS."
   ]
  },
  {
   "cell_type": "code",
   "execution_count": 64,
   "id": "b190edc1",
   "metadata": {
    "id": "b190edc1",
    "outputId": "61a3a576-d242-4d00-db21-1d6fa9cbdf36"
   },
   "outputs": [
    {
     "name": "stdout",
     "output_type": "stream",
     "text": [
      "Confusion Matrix with sequential feature selection forward :\n",
      "\n",
      " \n",
      "Fitting 5 folds for each of 120 candidates, totalling 600 fits\n",
      "              precision    recall  f1-score   support\n",
      "\n",
      "           0       0.41      0.52      0.46       493\n",
      "           1       0.38      0.27      0.32       464\n",
      "           2       0.58      0.55      0.56       493\n",
      "           3       0.65      0.67      0.66       567\n",
      "\n",
      "    accuracy                           0.51      2017\n",
      "   macro avg       0.50      0.50      0.50      2017\n",
      "weighted avg       0.51      0.51      0.51      2017\n",
      "\n",
      "============================================================\n",
      "Confusion Matrix with sequential feature selection backward :\n",
      "\n",
      " \n",
      "Fitting 5 folds for each of 120 candidates, totalling 600 fits\n",
      "              precision    recall  f1-score   support\n",
      "\n",
      "           0       0.39      0.42      0.41       493\n",
      "           1       0.36      0.28      0.31       465\n",
      "           2       0.56      0.58      0.57       492\n",
      "           3       0.63      0.69      0.66       567\n",
      "\n",
      "    accuracy                           0.50      2017\n",
      "   macro avg       0.49      0.49      0.49      2017\n",
      "weighted avg       0.49      0.50      0.50      2017\n",
      "\n",
      "============================================================\n",
      "Confusion Matrix report after variance Threshold :\n",
      "\n",
      " \n",
      "Fitting 5 folds for each of 120 candidates, totalling 600 fits\n",
      "              precision    recall  f1-score   support\n",
      "\n",
      "           0       0.45      0.37      0.40       493\n",
      "           1       0.36      0.26      0.30       465\n",
      "           2       0.53      0.56      0.54       492\n",
      "           3       0.59      0.79      0.67       567\n",
      "\n",
      "    accuracy                           0.51      2017\n",
      "   macro avg       0.48      0.49      0.48      2017\n",
      "weighted avg       0.49      0.51      0.49      2017\n",
      "\n",
      "============================================================\n",
      "Confusion Matrix after Best K selector is : \n",
      "\n",
      " \n",
      "Fitting 5 folds for each of 120 candidates, totalling 600 fits\n",
      "              precision    recall  f1-score   support\n",
      "\n",
      "           0       0.32      0.53      0.40       493\n",
      "           1       0.29      0.13      0.18       464\n",
      "           2       0.51      0.60      0.55       493\n",
      "           3       0.68      0.48      0.56       567\n",
      "\n",
      "    accuracy                           0.44      2017\n",
      "   macro avg       0.45      0.44      0.42      2017\n",
      "weighted avg       0.46      0.44      0.43      2017\n",
      "\n",
      "============================================================\n",
      "Confusion Matrix after RFE selector is : \n",
      "\n",
      "\n",
      "Fitting 5 folds for each of 120 candidates, totalling 600 fits\n",
      "              precision    recall  f1-score   support\n",
      "\n",
      "           0       0.39      0.37      0.38       493\n",
      "           1       0.33      0.23      0.27       464\n",
      "           2       0.44      0.51      0.47       493\n",
      "           3       0.62      0.71      0.66       567\n",
      "\n",
      "    accuracy                           0.47      2017\n",
      "   macro avg       0.44      0.45      0.45      2017\n",
      "weighted avg       0.45      0.47      0.46      2017\n",
      "\n",
      "============================================================\n",
      "Confusion Matrix after Select From Model selector is : \n",
      "\n",
      "\n",
      "Fitting 5 folds for each of 120 candidates, totalling 600 fits\n",
      "              precision    recall  f1-score   support\n",
      "\n",
      "           0       0.35      0.44      0.39       493\n",
      "           1       0.00      0.00      0.00       464\n",
      "           2       0.41      0.60      0.49       493\n",
      "           3       0.60      0.71      0.65       567\n",
      "\n",
      "    accuracy                           0.45      2017\n",
      "   macro avg       0.34      0.44      0.38      2017\n",
      "weighted avg       0.35      0.45      0.40      2017\n",
      "\n",
      "============================================================\n"
     ]
    },
    {
     "data": {
      "image/png": "[encoded data removed]",
      "text/plain": [
       "<Figure size 432x288 with 1 Axes>"
      ]
     },
     "metadata": {
      "needs_background": "light"
     },
     "output_type": "display_data"
    }
   ],
   "source": [
    "\n",
    "# after Sequential feature selection forward\n",
    "\n",
    "print(\"Confusion Matrix with sequential feature selection forward :\\n\\n \")\n",
    "x_seq=sfs(clf,8)\n",
    "acc_sfs=DecisionTree(clf, x_seq)\n",
    "Accuracy_D.append(acc_sfs)\n",
    "\n",
    "# after Sequential feature selection backward\n",
    "\n",
    "print(\"Confusion Matrix with sequential feature selection backward :\\n\\n \")\n",
    "x_seq=sfs_backward(clf,8)\n",
    "acc_sfs_backward=DecisionTree(clf, x_seq)\n",
    "Accuracy_D.append(acc_sfs_backward)\n",
    "\n",
    "# after variance Threshold selector\n",
    "\n",
    "print(\"Confusion Matrix report after variance Threshold :\\n\\n \")\n",
    "\n",
    "x_varianceTh=varianceThresholdFnc()\n",
    "acc_variance=DecisionTree(clf, x_varianceTh)\n",
    " \n",
    "Accuracy_D.append(acc_variance)\n",
    "\n",
    "# After best K: \n",
    "print(\"Confusion Matrix after Best K selector is : \\n\\n \")\n",
    "x_bestK=selectKbest_fnc()\n",
    "acc_bestK=DecisionTree(clf, x_bestK)\n",
    "\n",
    "Accuracy_D.append(acc_bestK)\n",
    "\n",
    "# After RFE :\n",
    "print(\"Confusion Matrix after RFE selector is : \\n\\n\")\n",
    "x_RFE=RFE_fnc(clf)\n",
    "acc_RFE=DecisionTree(clf,x_RFE)\n",
    "Accuracy_D.append(acc_RFE)\n",
    "\n",
    "\n",
    "# After Select From Model :\n",
    "print(\"Confusion Matrix after Select From Model selector is : \\n\\n\")\n",
    "x_SFM=SelectFromModel_fnc(clf)\n",
    "acc_SFM=DecisionTree(clf,x_SFM)\n",
    "Accuracy_D.append(acc_SFM)\n",
    "\n",
    "# Plot the bar plto: \n",
    "\n",
    "x_Dtree=[\"No FS\", \"SFS F\" ,\"SFS B\",\"VarianceTH\",\"BestK\",\"RFE\", \"SFM\"]\n",
    "\n",
    "# Bar plot \n",
    "plt.bar(x_Dtree,Accuracy_D, color='maroon', width=0.4)\n",
    "plt.xlabel(\"Feature Selection\")\n",
    "plt.ylabel(\"Accuracy\")\n",
    "\n",
    "# maximum accuracy \n",
    "maximum_acc_Dtree=max(Accuracy_D)\n",
    "dict_acc['Decision_tree']=maximum_acc_Dtree"
   ]
  },
  {
   "cell_type": "markdown",
   "id": "9ea1d95e",
   "metadata": {
    "id": "9ea1d95e"
   },
   "source": [
    "From the Bar chart :\n",
    "- All feature selection have similar accuracy ( not exceeding 52%)\n",
    "- Best K , has the least accuracy\n",
    "- Variance Threshold and sequential feature selection forward have the maximum accuracy from feature selection method.\n",
    "- But without the feature selection we get the best accuracy"
   ]
  },
  {
   "cell_type": "markdown",
   "id": "52490c4e",
   "metadata": {
    "id": "52490c4e"
   },
   "source": [
    "### Results( KNN): \n"
   ]
  },
  {
   "cell_type": "code",
   "execution_count": 65,
   "id": "1e539b7f",
   "metadata": {
    "id": "1e539b7f",
    "outputId": "31c26db8-ba45-497f-c193-216cff59314b"
   },
   "outputs": [
    {
     "name": "stdout",
     "output_type": "stream",
     "text": [
      "Confusion matrix of KNN with no feature selection :\n",
      "\n",
      " \n",
      "              precision    recall  f1-score   support\n",
      "\n",
      "           0       0.41      0.42      0.42       498\n",
      "           1       0.35      0.29      0.32       454\n",
      "           2       0.56      0.59      0.57       501\n",
      "           3       0.64      0.68      0.66       564\n",
      "\n",
      "    accuracy                           0.51      2017\n",
      "   macro avg       0.49      0.50      0.49      2017\n",
      "weighted avg       0.50      0.51      0.50      2017\n",
      "\n",
      "============================================================\n"
     ]
    }
   ],
   "source": [
    "# No feature selection :\n",
    "\n",
    "Accuracy_knn=[]\n",
    "print(\"Confusion matrix of KNN with no feature selection :\\n\\n \" )\n",
    "clf2=KNeighborsClassifier()\n",
    "acc_no_FS2=KNN(clf2, X)\n",
    "\n",
    "Accuracy_knn.append(acc_no_FS2)"
   ]
  },
  {
   "cell_type": "code",
   "execution_count": 66,
   "id": "9e7d6bfa",
   "metadata": {},
   "outputs": [
    {
     "name": "stdout",
     "output_type": "stream",
     "text": [
      "knn with 2 feature selection\n",
      "              precision    recall  f1-score   support\n",
      "\n",
      "           0       0.37      0.33      0.35       491\n",
      "           1       0.31      0.31      0.31       438\n",
      "           2       0.46      0.48      0.47       509\n",
      "           3       0.62      0.66      0.64       579\n",
      "\n",
      "    accuracy                           0.46      2017\n",
      "   macro avg       0.44      0.44      0.44      2017\n",
      "weighted avg       0.45      0.46      0.45      2017\n",
      "\n",
      "============================================================\n",
      "knn with 3 feature selection\n",
      "              precision    recall  f1-score   support\n",
      "\n",
      "           0       0.43      0.47      0.45       506\n",
      "           1       0.39      0.34      0.37       471\n",
      "           2       0.51      0.48      0.50       463\n",
      "           3       0.63      0.68      0.66       577\n",
      "\n",
      "    accuracy                           0.50      2017\n",
      "   macro avg       0.49      0.49      0.49      2017\n",
      "weighted avg       0.50      0.50      0.50      2017\n",
      "\n",
      "============================================================\n",
      "knn with 4 feature selection\n",
      "              precision    recall  f1-score   support\n",
      "\n",
      "           0       0.41      0.47      0.44       487\n",
      "           1       0.34      0.32      0.33       446\n",
      "           2       0.56      0.48      0.52       493\n",
      "           3       0.69      0.71      0.70       591\n",
      "\n",
      "    accuracy                           0.51      2017\n",
      "   macro avg       0.50      0.50      0.50      2017\n",
      "weighted avg       0.51      0.51      0.51      2017\n",
      "\n",
      "============================================================\n",
      "knn with 5 feature selection\n",
      "              precision    recall  f1-score   support\n",
      "\n",
      "           0       0.42      0.49      0.45       496\n",
      "           1       0.36      0.30      0.33       456\n",
      "           2       0.58      0.54      0.56       495\n",
      "           3       0.64      0.67      0.66       570\n",
      "\n",
      "    accuracy                           0.51      2017\n",
      "   macro avg       0.50      0.50      0.50      2017\n",
      "weighted avg       0.51      0.51      0.51      2017\n",
      "\n",
      "============================================================\n",
      "knn with 6 feature selection\n",
      "              precision    recall  f1-score   support\n",
      "\n",
      "           0       0.42      0.47      0.44       498\n",
      "           1       0.38      0.35      0.37       445\n",
      "           2       0.60      0.53      0.56       505\n",
      "           3       0.64      0.68      0.66       569\n",
      "\n",
      "    accuracy                           0.52      2017\n",
      "   macro avg       0.51      0.51      0.51      2017\n",
      "weighted avg       0.52      0.52      0.52      2017\n",
      "\n",
      "============================================================\n",
      "knn with 7 feature selection\n",
      "              precision    recall  f1-score   support\n",
      "\n",
      "           0       0.43      0.47      0.45       497\n",
      "           1       0.38      0.33      0.35       451\n",
      "           2       0.54      0.53      0.53       497\n",
      "           3       0.65      0.67      0.66       572\n",
      "\n",
      "    accuracy                           0.51      2017\n",
      "   macro avg       0.50      0.50      0.50      2017\n",
      "weighted avg       0.51      0.51      0.51      2017\n",
      "\n",
      "============================================================\n",
      "knn with 8 feature selection\n",
      "              precision    recall  f1-score   support\n",
      "\n",
      "           0       0.40      0.44      0.42       498\n",
      "           1       0.39      0.27      0.32       469\n",
      "           2       0.50      0.53      0.52       485\n",
      "           3       0.61      0.69      0.65       565\n",
      "\n",
      "    accuracy                           0.49      2017\n",
      "   macro avg       0.48      0.48      0.48      2017\n",
      "weighted avg       0.48      0.49      0.48      2017\n",
      "\n",
      "============================================================\n"
     ]
    },
    {
     "data": {
      "image/png": "[encoded data removed]",
      "text/plain": [
       "<Figure size 432x288 with 1 Axes>"
      ]
     },
     "metadata": {
      "needs_background": "light"
     },
     "output_type": "display_data"
    }
   ],
   "source": [
    " # This loop to return the best number of features in Sequential selection\n",
    "N = list(range(2,9))\n",
    "acc_N = list() \n",
    "for n in N:\n",
    "    print(f\"knn with {n} feature selection\")\n",
    "    x_seq_n=sfs(clf2,n)\n",
    "    acc_sfs_n=KNN(clf2, x_seq_n)\n",
    "    acc_N.append(acc_sfs_n)\n",
    "\n",
    "    \n",
    "# plot the result\n",
    "plt.bar(N,acc_N)\n",
    "plt.ylabel('Accuracy')\n",
    "plt.show()"
   ]
  },
  {
   "cell_type": "markdown",
   "id": "2d9b0dd1",
   "metadata": {},
   "source": [
    "From the graph :\n",
    "- Number of feature = 6 , has the maximum accuracy, so we will use it in next SFS."
   ]
  },
  {
   "cell_type": "code",
   "execution_count": 67,
   "id": "593c38fe",
   "metadata": {
    "id": "593c38fe",
    "outputId": "a23e98b2-0fc7-4cda-cd2d-8382cc081f5f"
   },
   "outputs": [
    {
     "name": "stdout",
     "output_type": "stream",
     "text": [
      "Confusion matrix after sequential feature selection (KNN): \n",
      "\n",
      " \n",
      "              precision    recall  f1-score   support\n",
      "\n",
      "           0       0.42      0.47      0.45       475\n",
      "           1       0.41      0.31      0.36       458\n",
      "           2       0.56      0.52      0.54       505\n",
      "           3       0.63      0.72      0.67       579\n",
      "\n",
      "    accuracy                           0.52      2017\n",
      "   macro avg       0.50      0.51      0.50      2017\n",
      "weighted avg       0.51      0.52      0.51      2017\n",
      "\n",
      "============================================================\n",
      "Confusion matrix after sequential feature selection (KNN): \n",
      "\n",
      " \n",
      "              precision    recall  f1-score   support\n",
      "\n",
      "           0       0.43      0.43      0.43       513\n",
      "           1       0.34      0.32      0.33       429\n",
      "           2       0.56      0.52      0.54       489\n",
      "           3       0.65      0.71      0.68       586\n",
      "\n",
      "    accuracy                           0.51      2017\n",
      "   macro avg       0.50      0.50      0.50      2017\n",
      "weighted avg       0.51      0.51      0.51      2017\n",
      "\n",
      "============================================================\n",
      "Confusion matrix after variance Threshold (knn):\n",
      "\n",
      " \n",
      "              precision    recall  f1-score   support\n",
      "\n",
      "           0       0.40      0.45      0.42       487\n",
      "           1       0.38      0.33      0.35       464\n",
      "           2       0.55      0.52      0.54       504\n",
      "           3       0.63      0.66      0.64       562\n",
      "\n",
      "    accuracy                           0.50      2017\n",
      "   macro avg       0.49      0.49      0.49      2017\n",
      "weighted avg       0.50      0.50      0.50      2017\n",
      "\n",
      "============================================================\n",
      "Confusion matrix after Best K selector is : \n",
      "\n",
      "\n",
      "              precision    recall  f1-score   support\n",
      "\n",
      "           0       0.32      0.60      0.42       493\n",
      "           1       0.00      0.00      0.00       439\n",
      "           2       0.53      0.59      0.56       503\n",
      "           3       0.55      0.51      0.53       582\n",
      "\n",
      "    accuracy                           0.44      2017\n",
      "   macro avg       0.35      0.43      0.38      2017\n",
      "weighted avg       0.37      0.44      0.40      2017\n",
      "\n",
      "============================================================\n"
     ]
    },
    {
     "data": {
      "image/png": "[encoded data removed]",
      "text/plain": [
       "<Figure size 432x288 with 1 Axes>"
      ]
     },
     "metadata": {
      "needs_background": "light"
     },
     "output_type": "display_data"
    }
   ],
   "source": [
    "\n",
    "# sfs in knn: \n",
    "\n",
    "print(\"Confusion matrix after sequential feature selection (KNN): \\n\\n \")\n",
    "x_seq2=sfs(clf2,6)\n",
    "acc_sfs2=KNN(clf2, x_seq2)\n",
    "\n",
    "Accuracy_knn.append(acc_sfs2)\n",
    "\n",
    "\n",
    "print(\"Confusion matrix after sequential feature selection (KNN): \\n\\n \")\n",
    "x_seq2_backward=sfs_backward(clf2, 6)\n",
    "acc_sfs2__backward=KNN(clf2, x_seq2_backward)\n",
    "\n",
    "Accuracy_knn.append(acc_sfs2__backward)\n",
    "\n",
    "# variance Threshold in knn:\n",
    "print(\"Confusion matrix after variance Threshold (knn):\\n\\n \")\n",
    "x_varianceTh2=varianceThresholdFnc()\n",
    "acc_variance2=KNN(clf2, x_varianceTh2)\n",
    "\n",
    "Accuracy_knn.append(acc_variance2)\n",
    "\n",
    "# select best K in KNN:\n",
    "print(\"Confusion matrix after Best K selector is : \\n\\n\")\n",
    "x_bestK2=selectKbest_fnc()\n",
    "acc_bestK2=KNN(clf2, x_bestK2)\n",
    "\n",
    "Accuracy_knn.append(acc_bestK2)\n",
    "\n",
    "\n",
    "# RFE in KNN :\n",
    "# knn does not suppur this feature selection \n",
    "\n",
    "x_Ktree=[\"No FS\", \"SFS forward\" ,\"SFS backward\",\"VarianceTH\",\"BestK\" ] \n",
    "\n",
    "# Bar plot \n",
    "plt.bar(x_Ktree,Accuracy_knn, color='blue', width=0.4)\n",
    "plt.xlabel(\"Feature Selection\")\n",
    "plt.ylabel(\"Accuracy\")\n",
    "\n",
    "\n",
    "# maximum accuracy \n",
    "maximum_acc_knn=max(Accuracy_knn)\n",
    "dict_acc['KNN']=maximum_acc_knn"
   ]
  },
  {
   "cell_type": "markdown",
   "id": "e9165d51",
   "metadata": {
    "id": "e9165d51"
   },
   "source": [
    "### From the Bar chart:\n",
    "  - Best K feature selection has the least accuracy \n",
    "  -  Other feature seletion , have simliar accuracy (not greater than 50%)\n",
    "  - Accuracy before and after feature slection is same, so in this case feature \n",
    "    selection is not important. ( That is becuase , feature selection is more important \n",
    "    in neural network algorithms, and KNN not of them . It is based in distance between datapoints,\n",
    "     therefore accuracy did not change after feature selection)"
   ]
  },
  {
   "cell_type": "markdown",
   "id": "8d137764",
   "metadata": {
    "id": "8d137764"
   },
   "source": [
    "### Results (Logistic Regrission):"
   ]
  },
  {
   "cell_type": "code",
   "execution_count": 68,
   "id": "a7a51944",
   "metadata": {
    "id": "a7a51944",
    "outputId": "7ec5ebcb-f658-476b-a0ad-c3b233029d34"
   },
   "outputs": [
    {
     "name": "stdout",
     "output_type": "stream",
     "text": [
      "Confusion Matrix with no feature selection : \n",
      " \n",
      "              precision    recall  f1-score   support\n",
      "\n",
      "           0       0.44      0.39      0.41       522\n",
      "           1       0.31      0.18      0.23       420\n",
      "           2       0.51      0.57      0.54       509\n",
      "           3       0.61      0.80      0.69       566\n",
      "\n",
      "    accuracy                           0.51      2017\n",
      "   macro avg       0.47      0.48      0.47      2017\n",
      "weighted avg       0.48      0.51      0.48      2017\n",
      "\n",
      "============================================================\n"
     ]
    }
   ],
   "source": [
    "# with no FS \n",
    "\n",
    "Accuracy_LRR=[]\n",
    "\n",
    "print(\"Confusion Matrix with no feature selection : \\n \" )\n",
    "clf3=LogisticRegression()\n",
    "acc_no_FS3=LR(clf3, X)\n",
    "Accuracy_LRR.append(acc_no_FS3)\n"
   ]
  },
  {
   "cell_type": "code",
   "execution_count": 69,
   "id": "6fa2009e",
   "metadata": {},
   "outputs": [
    {
     "name": "stdout",
     "output_type": "stream",
     "text": [
      "LR with 2 feature selection\n",
      "              precision    recall  f1-score   support\n",
      "\n",
      "           0       0.30      0.43      0.36       487\n",
      "           1       0.34      0.10      0.15       455\n",
      "           2       0.53      0.56      0.54       520\n",
      "           3       0.52      0.61      0.56       555\n",
      "\n",
      "    accuracy                           0.44      2017\n",
      "   macro avg       0.42      0.42      0.40      2017\n",
      "weighted avg       0.43      0.44      0.41      2017\n",
      "\n",
      "============================================================\n",
      "LR with 3 feature selection\n",
      "              precision    recall  f1-score   support\n",
      "\n",
      "           0       0.38      0.37      0.38       519\n",
      "           1       0.25      0.04      0.07       460\n",
      "           2       0.50      0.60      0.54       508\n",
      "           3       0.49      0.76      0.60       530\n",
      "\n",
      "    accuracy                           0.46      2017\n",
      "   macro avg       0.40      0.44      0.40      2017\n",
      "weighted avg       0.41      0.46      0.41      2017\n",
      "\n",
      "============================================================\n",
      "LR with 4 feature selection\n",
      "              precision    recall  f1-score   support\n",
      "\n",
      "           0       0.41      0.46      0.43       508\n",
      "           1       0.38      0.08      0.13       441\n",
      "           2       0.49      0.63      0.55       474\n",
      "           3       0.61      0.75      0.68       594\n",
      "\n",
      "    accuracy                           0.50      2017\n",
      "   macro avg       0.47      0.48      0.45      2017\n",
      "weighted avg       0.48      0.50      0.47      2017\n",
      "\n",
      "============================================================\n",
      "LR with 5 feature selection\n",
      "              precision    recall  f1-score   support\n",
      "\n",
      "           0       0.36      0.47      0.41       475\n",
      "           1       0.35      0.06      0.11       482\n",
      "           2       0.48      0.58      0.53       493\n",
      "           3       0.58      0.74      0.65       567\n",
      "\n",
      "    accuracy                           0.47      2017\n",
      "   macro avg       0.44      0.46      0.42      2017\n",
      "weighted avg       0.45      0.47      0.43      2017\n",
      "\n",
      "============================================================\n",
      "LR with 6 feature selection\n",
      "              precision    recall  f1-score   support\n",
      "\n",
      "           0       0.41      0.46      0.43       508\n",
      "           1       0.36      0.08      0.13       465\n",
      "           2       0.49      0.63      0.55       499\n",
      "           3       0.58      0.75      0.65       545\n",
      "\n",
      "    accuracy                           0.49      2017\n",
      "   macro avg       0.46      0.48      0.44      2017\n",
      "weighted avg       0.46      0.49      0.45      2017\n",
      "\n",
      "============================================================\n",
      "LR with 7 feature selection\n",
      "              precision    recall  f1-score   support\n",
      "\n",
      "           0       0.43      0.39      0.41       544\n",
      "           1       0.32      0.13      0.19       457\n",
      "           2       0.50      0.62      0.55       478\n",
      "           3       0.58      0.79      0.67       538\n",
      "\n",
      "    accuracy                           0.49      2017\n",
      "   macro avg       0.45      0.48      0.45      2017\n",
      "weighted avg       0.46      0.49      0.46      2017\n",
      "\n",
      "============================================================\n",
      "LR with 8 feature selection\n",
      "              precision    recall  f1-score   support\n",
      "\n",
      "           0       0.43      0.41      0.42       526\n",
      "           1       0.31      0.16      0.21       456\n",
      "           2       0.49      0.61      0.55       488\n",
      "           3       0.58      0.71      0.64       547\n",
      "\n",
      "    accuracy                           0.48      2017\n",
      "   macro avg       0.45      0.47      0.45      2017\n",
      "weighted avg       0.46      0.48      0.46      2017\n",
      "\n",
      "============================================================\n"
     ]
    },
    {
     "data": {
      "image/png": "[encoded data removed]",
      "text/plain": [
       "<Figure size 432x288 with 1 Axes>"
      ]
     },
     "metadata": {
      "needs_background": "light"
     },
     "output_type": "display_data"
    }
   ],
   "source": [
    " # This loop to return the best number of features in Sequential selection using LR\n",
    "N = list(range(2,9))\n",
    "acc_N = list() \n",
    "for n in N:\n",
    "    print(f\"LR with {n} feature selection\")\n",
    "    x_seq_n=sfs(clf3,n)\n",
    "    acc_sfs_n=LR(clf3, x_seq_n)\n",
    "    acc_N.append(acc_sfs_n)\n",
    "\n",
    "    \n",
    "# plot the result\n",
    "plt.bar(N,acc_N)\n",
    "plt.ylabel('Accuracy')\n",
    "plt.show()"
   ]
  },
  {
   "cell_type": "markdown",
   "id": "b1a81cd7",
   "metadata": {},
   "source": [
    "From the graph :\n",
    "- Number of feature = 4 , has the maximum accuracy, so we will use it in next SFS."
   ]
  },
  {
   "cell_type": "code",
   "execution_count": 70,
   "id": "371c979d",
   "metadata": {
    "id": "371c979d",
    "outputId": "82f6fdae-7064-4c3c-dfc1-476686f15d01"
   },
   "outputs": [
    {
     "name": "stdout",
     "output_type": "stream",
     "text": [
      "Confusion matrix after sequential feature selection forward: \n",
      "\n",
      "\n",
      "              precision    recall  f1-score   support\n",
      "\n",
      "           0       0.36      0.45      0.40       474\n",
      "           1       0.37      0.04      0.08       481\n",
      "           2       0.50      0.65      0.57       515\n",
      "           3       0.59      0.75      0.66       547\n",
      "\n",
      "    accuracy                           0.48      2017\n",
      "   macro avg       0.45      0.47      0.43      2017\n",
      "weighted avg       0.46      0.48      0.44      2017\n",
      "\n",
      "============================================================\n",
      "Confusion matrix after sequential feature selection backward : \n",
      "\n",
      "\n",
      "              precision    recall  f1-score   support\n",
      "\n",
      "           0       0.42      0.44      0.43       533\n",
      "           1       0.34      0.11      0.17       438\n",
      "           2       0.51      0.63      0.57       481\n",
      "           3       0.57      0.73      0.64       565\n",
      "\n",
      "    accuracy                           0.50      2017\n",
      "   macro avg       0.46      0.48      0.45      2017\n",
      "weighted avg       0.47      0.50      0.47      2017\n",
      "\n",
      "============================================================\n",
      "Confusion matrix after variance Threshold : \n",
      "\n",
      " \n",
      "              precision    recall  f1-score   support\n",
      "\n",
      "           0       0.42      0.44      0.43       495\n",
      "           1       0.31      0.13      0.18       467\n",
      "           2       0.49      0.62      0.55       497\n",
      "           3       0.61      0.74      0.67       558\n",
      "\n",
      "    accuracy                           0.50      2017\n",
      "   macro avg       0.46      0.48      0.46      2017\n",
      "weighted avg       0.46      0.50      0.47      2017\n",
      "\n",
      "============================================================\n",
      "Confusion matrix after Best K selector is : \n",
      "\n",
      "\n",
      "              precision    recall  f1-score   support\n",
      "\n",
      "           0       0.29      0.24      0.27       433\n",
      "           1       0.29      0.07      0.11       477\n",
      "           2       0.51      0.60      0.55       512\n",
      "           3       0.51      0.81      0.63       595\n",
      "\n",
      "    accuracy                           0.46      2017\n",
      "   macro avg       0.40      0.43      0.39      2017\n",
      "weighted avg       0.41      0.46      0.41      2017\n",
      "\n",
      "============================================================\n",
      "Confusion matrix after RFE selector is :\n",
      "\n",
      " \n",
      "              precision    recall  f1-score   support\n",
      "\n",
      "           0       0.33      0.44      0.38       450\n",
      "           1       0.40      0.06      0.10       462\n",
      "           2       0.46      0.55      0.50       520\n",
      "           3       0.58      0.74      0.65       585\n",
      "\n",
      "    accuracy                           0.47      2017\n",
      "   macro avg       0.44      0.45      0.41      2017\n",
      "weighted avg       0.45      0.47      0.43      2017\n",
      "\n",
      "============================================================\n",
      "Confusion Matrix after Select From Model selector is : \n",
      "\n",
      "\n",
      "              precision    recall  f1-score   support\n",
      "\n",
      "           0       0.43      0.43      0.43       520\n",
      "           1       0.30      0.11      0.16       438\n",
      "           2       0.46      0.60      0.52       498\n",
      "           3       0.60      0.73      0.66       561\n",
      "\n",
      "    accuracy                           0.49      2017\n",
      "   macro avg       0.45      0.47      0.44      2017\n",
      "weighted avg       0.46      0.49      0.46      2017\n",
      "\n",
      "============================================================\n"
     ]
    },
    {
     "data": {
      "image/png": "[encoded data removed]",
      "text/plain": [
       "<Figure size 432x288 with 1 Axes>"
      ]
     },
     "metadata": {
      "needs_background": "light"
     },
     "output_type": "display_data"
    }
   ],
   "source": [
    "# with SFS \n",
    "\n",
    "print(\"Confusion matrix after sequential feature selection forward: \\n\\n\")\n",
    "\n",
    "acc_sfs3=sfs(clf3,4)\n",
    "x_seq3=LR(clf3,acc_sfs3)\n",
    "Accuracy_LRR.append(x_seq3)\n",
    "\n",
    "print(\"Confusion matrix after sequential feature selection backward : \\n\\n\")\n",
    "\n",
    "acc_sfs3=sfs(clf3,4)\n",
    "x_seq3=LR(clf3,acc_sfs3)\n",
    "Accuracy_LRR.append(x_seq3)\n",
    "\n",
    "# with variance Threshold \n",
    "\n",
    "print(\"Confusion matrix after variance Threshold : \\n\\n \")\n",
    "x_varianceTh3=varianceThresholdFnc()\n",
    "acc_variance3=LR(clf3, x_varianceTh3)\n",
    "\n",
    "Accuracy_LRR.append(acc_variance3)\n",
    "\n",
    "# Best K selection \n",
    "print(\"Confusion matrix after Best K selector is : \\n\\n\")\n",
    "\n",
    "x_bestK3=selectKbest_fnc()\n",
    "acc_bestK3=LR(clf3, x_bestK3)\n",
    "\n",
    "Accuracy_LRR.append(acc_bestK3)\n",
    "\n",
    "print(\"Confusion matrix after RFE selector is :\\n\\n \")\n",
    "x_RFE3=RFE_fnc(clf3)\n",
    "acc_RFE3=LR(clf3,x_RFE3)\n",
    "\n",
    "Accuracy_LRR.append(acc_RFE3)\n",
    "\n",
    "\n",
    "# After Select From Model :\n",
    "print(\"Confusion Matrix after Select From Model selector is : \\n\\n\")\n",
    "x_SFM3=SelectFromModel_fnc(clf3)\n",
    "acc_SFM3=LR(clf3,x_SFM3)\n",
    "Accuracy_LRR.append(acc_SFM3)\n",
    "\n",
    "\n",
    "# Bar chart\n",
    "x_Ltree=[\"No FS\", \"SFS F\" ,\"SFS B\",\"VarianceTH\",\"BestK\", \"RFE\",\"SFM\"]\n",
    "\n",
    "# Bar plot \n",
    "plt.bar(x_Ltree,Accuracy_LRR, color='Green', width=0.4)\n",
    "plt.xlabel(\"Feature Selection\")\n",
    "plt.ylabel(\"Accuracy\")\n",
    "\n",
    "# maximum accuracy \n",
    "maximum_acc_LR=max(Accuracy_LRR)\n",
    "dict_acc['Logistic Regrission'] = maximum_acc_LR"
   ]
  },
  {
   "cell_type": "markdown",
   "id": "c70f04e8",
   "metadata": {
    "id": "c70f04e8"
   },
   "source": [
    "From the Bar chart:\n",
    "- The highest accuracy is in Variance Threshold\n",
    "- Best k has least accuracy "
   ]
  },
  {
   "cell_type": "code",
   "execution_count": 73,
   "id": "e1bf7af9",
   "metadata": {
    "id": "e1bf7af9"
   },
   "outputs": [
    {
     "data": {
      "image/png": "[encoded data removed]",
      "text/plain": [
       "<Figure size 432x288 with 1 Axes>"
      ]
     },
     "metadata": {
      "needs_background": "light"
     },
     "output_type": "display_data"
    },
    {
     "name": "stdout",
     "output_type": "stream",
     "text": [
      "Best Accuracy in Decision_tree =  0.5245\n",
      "Best Accuracy in KNN =  0.5196\n",
      "Best Accuracy in Logistic Regrission =  0.5062\n"
     ]
    }
   ],
   "source": [
    "# Final report \n",
    "\n",
    "# Bar chart ( X> Classifier , y > accuracy )\n",
    "# Bar plot \n",
    "Classifier = list(dict_acc.keys())\n",
    "accuracy = list(dict_acc.values())\n",
    "plt.bar(Classifier,accuracy, color='Green', width=0.4)\n",
    "plt.xlabel(\"Classifier\")\n",
    "plt.ylabel(\"Accuracy\")\n",
    "plt.show()\n",
    "\n",
    "# Best Accuracy in Decision tree=... \n",
    "for cls_n in Classifier:\n",
    "    print(f\"Best Accuracy in {cls_n} =  {round(dict_acc[cls_n],4)}\")\n"
   ]
  },
  {
   "cell_type": "markdown",
   "id": "32ee3301",
   "metadata": {},
   "source": [
    "## from the bar we can note that :\n",
    "The best classifier is Decision tree with Acuuracy = 0.5245"
   ]
  },
  {
   "cell_type": "markdown",
   "id": "7e34e03b",
   "metadata": {},
   "source": [
    "### Analys:\n",
    "-  We used different solution to optimize the accuracy, that are in data preprocessing and using different feature selection with different classifiers.\n",
    "- The accuracy did not increased even after the optimization.\n",
    "- The problem might be in Data that is :\n",
    "    1. Needs to add more relevant feature that is correlated strongly with the classes.\n",
    "    2. The values could be not accurate and have to be more precise. \n",
    "           \n",
    "       \n",
    "        "
   ]
  },
  {
   "cell_type": "markdown",
   "id": "59809b00",
   "metadata": {},
   "source": []
  },
  {
   "cell_type": "code",
   "execution_count": null,
   "id": "e1d5719a",
   "metadata": {},
   "outputs": [],
   "source": []
  }
 ],
 "metadata": {
  "colab": {
   "provenance": []
  },
  "kernelspec": {
   "display_name": "Python 3 (ipykernel)",
   "language": "python",
   "name": "python3"
  },
  "language_info": {
   "codemirror_mode": {
    "name": "ipython",
    "version": 3
   },
   "file_extension": ".py",
   "mimetype": "text/x-python",
   "name": "python",
   "nbconvert_exporter": "python",
   "pygments_lexer": "ipython3",
   "version": "3.9.13"
  }
 },
 "nbformat": 4,
 "nbformat_minor": 5
}
